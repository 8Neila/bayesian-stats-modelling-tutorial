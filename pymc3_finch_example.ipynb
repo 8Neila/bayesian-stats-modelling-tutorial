{
 "cells": [
  {
   "cell_type": "markdown",
   "metadata": {},
   "source": [
    "This is a short example that I am thinking of putting in the Parameter Estimation section of the tutorial (NB2). Justin Bois suggested busting out sampling at this point and it may be nice to introduce PyMC3 with this small example of Finch beak lengths."
   ]
  },
  {
   "cell_type": "code",
   "execution_count": null,
   "metadata": {},
   "outputs": [],
   "source": [
    "#Import packages\n",
    "import numpy as np\n",
    "import pandas as pd\n",
    "import seaborn as sns\n",
    "import matplotlib.pyplot as plt\n",
    "import pymc3 as pm\n",
    "%matplotlib inline\n",
    "sns.set()"
   ]
  },
  {
   "cell_type": "code",
   "execution_count": null,
   "metadata": {},
   "outputs": [],
   "source": [
    "# Import and view head of data\n",
    "df_12 = pd.read_csv('../data/finch_beaks_2012.csv')\n",
    "df_12.head()"
   ]
  },
  {
   "cell_type": "code",
   "execution_count": null,
   "metadata": {},
   "outputs": [],
   "source": [
    "# Construct the model\n",
    "with pm.Model() as finch_model:\n",
    "    # Prior on mean, variance\n",
    "    μ = pm.Normal('μ', mu=10, sd=5)\n",
    "    σ = pm.Lognormal('σ', 0, 10)\n",
    "    # Gaussian Likelihood\n",
    "    y = pm.Normal('y', mu=μ, sd=σ, observed=df_12.blength)"
   ]
  },
  {
   "cell_type": "code",
   "execution_count": null,
   "metadata": {},
   "outputs": [],
   "source": [
    "# Sample from that shit!\n",
    "with finch_model:\n",
    "    samples = pm.fit(random_seed=42).sample(1000)\n",
    " \n",
    "# Plot posterior\n",
    "pm.plot_posterior(samples, varnames=['μ']);"
   ]
  }
 ],
 "metadata": {
  "kernelspec": {
   "display_name": "Python 3",
   "language": "python",
   "name": "python3"
  },
  "language_info": {
   "codemirror_mode": {
    "name": "ipython",
    "version": 3
   },
   "file_extension": ".py",
   "mimetype": "text/x-python",
   "name": "python",
   "nbconvert_exporter": "python",
   "pygments_lexer": "ipython3",
   "version": "3.6.6"
  }
 },
 "nbformat": 4,
 "nbformat_minor": 2
}
