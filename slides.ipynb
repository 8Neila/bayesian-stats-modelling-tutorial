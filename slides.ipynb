{
 "cells": [
  {
   "cell_type": "code",
   "execution_count": null,
   "metadata": {
    "slideshow": {
     "slide_type": "skip"
    }
   },
   "outputs": [],
   "source": [
    "# Imports\n",
    "import pymc3 as pm\n",
    "import numpy.random as npr\n",
    "import numpy as np\n",
    "import matplotlib.pyplot as plt\n",
    "import matplotlib as mpl\n",
    "from collections import Counter\n",
    "import seaborn as sns\n",
    "import missingno as msno\n",
    "\n",
    "# Set plotting style\n",
    "# plt.style.use('fivethirtyeight')\n",
    "sns.set_style('white')\n",
    "sns.set_context('poster')\n",
    "\n",
    "%load_ext autoreload\n",
    "%autoreload 2\n",
    "%matplotlib inline\n",
    "%config InlineBackend.figure_format = 'retina'\n",
    "\n",
    "import warnings\n",
    "warnings.filterwarnings('ignore')"
   ]
  },
  {
   "cell_type": "code",
   "execution_count": null,
   "metadata": {
    "slideshow": {
     "slide_type": "skip"
    }
   },
   "outputs": [],
   "source": [
    "import pyqrcode as pq\n",
    "icon = pq.create('https://ericmjl.github.io/bayesian-stats-talk')\n",
    "icon.png('images/qrcode.png', scale=6)"
   ]
  },
  {
   "cell_type": "markdown",
   "metadata": {
    "slideshow": {
     "slide_type": "slide"
    }
   },
   "source": [
    "# Bayesian Statistical Analysis with PyMC3\n",
    "\n",
    "Eric J. Ma, MIT Biological Engineering, Insight Health Data Science Fellow, NIBR Data Science\n",
    "\n",
    "PyCon 2017, Portland, OR; PyData Boston 2017, Boston, MA\n",
    "\n",
    "- HTML Notebook on GitHub: [**ericmjl**.github.io/**bayesian-stats-talk**](https://ericmjl.github.io/bayesian-stats-talk)\n",
    "- Twitter: [@ericmjl](https://twitter.com/ericmjl)"
   ]
  },
  {
   "cell_type": "markdown",
   "metadata": {
    "slideshow": {
     "slide_type": "slide"
    }
   },
   "source": [
    "## talk features"
   ]
  },
  {
   "cell_type": "markdown",
   "metadata": {
    "slideshow": {
     "slide_type": "fragment"
    }
   },
   "source": [
    "- **minimal field jargon:** let's focus on the mechanics of analysis, rather than the terminology. *e.g. won't explain A/B testing, spike & slab regression, conjugate distributions...*"
   ]
  },
  {
   "cell_type": "markdown",
   "metadata": {
    "slideshow": {
     "slide_type": "fragment"
    }
   },
   "source": [
    "- **pareto principle:** the basics will get you to 80% of what you'll need"
   ]
  },
  {
   "cell_type": "markdown",
   "metadata": {
    "slideshow": {
     "slide_type": "fragment"
    }
   },
   "source": [
    " - **enjoy the talk:** focus on Bayes, get code later!"
   ]
  },
  {
   "cell_type": "markdown",
   "metadata": {
    "slideshow": {
     "slide_type": "subslide"
    }
   },
   "source": [
    "## assumed knowledge"
   ]
  },
  {
   "cell_type": "markdown",
   "metadata": {
    "slideshow": {
     "slide_type": "fragment"
    }
   },
   "source": [
    "- familiarity with Python:\n",
    "    - objects & methods\n",
    "    - context manager syntax"
   ]
  },
  {
   "cell_type": "markdown",
   "metadata": {
    "slideshow": {
     "slide_type": "fragment"
    }
   },
   "source": [
    "- knowledge of basic stats terminology: \n",
    "    - mean\n",
    "    - variance\n",
    "    - interval"
   ]
  },
  {
   "cell_type": "markdown",
   "metadata": {
    "slideshow": {
     "slide_type": "subslide"
    }
   },
   "source": [
    "![](./images/beliefs.jpg)"
   ]
  },
  {
   "cell_type": "markdown",
   "metadata": {
    "slideshow": {
     "slide_type": "subslide"
    }
   },
   "source": [
    "## the obligatory Bayes rule slide"
   ]
  },
  {
   "cell_type": "markdown",
   "metadata": {
    "slideshow": {
     "slide_type": "skip"
    }
   },
   "source": [
    "$$ P(H|D) = \\frac{P(D|H)P(H)}{P(D)} $$\n",
    "\n",
    "- $ P(H|D) $: Probability that the hypothesis is true given the data.\n",
    "- $ P(D|H) $: Probability of the data arising given the hypothesis.\n",
    "- $ P(H) $: Probability that the hypothesis is true, globally.\n",
    "- $ P(D) $: Probability of the data arising, globally."
   ]
  },
  {
   "cell_type": "markdown",
   "metadata": {
    "slideshow": {
     "slide_type": "subslide"
    }
   },
   "source": [
    "![](https://qph.ec.quoracdn.net/main-qimg-4f187b486bb35176d82ad942dcb20fee-c)"
   ]
  },
  {
   "cell_type": "markdown",
   "metadata": {
    "slideshow": {
     "slide_type": "subslide"
    }
   },
   "source": [
    "## bayesian thinking\n",
    "\n",
    "> update beliefs having seen the evidence"
   ]
  },
  {
   "cell_type": "markdown",
   "metadata": {
    "slideshow": {
     "slide_type": "subslide"
    }
   },
   "source": [
    "## `pymc3`\n",
    "\n",
    "![](https://github.com/pymc-devs/pymc3/blob/master/docs/pymc3_logo.jpg?raw=true)\n",
    "\n",
    "- Library of **statistical distributions**, **sampling algorithms**, and **syntax** for specifying statistical models\n",
    "- Everything in Python!"
   ]
  },
  {
   "cell_type": "markdown",
   "metadata": {
    "slideshow": {
     "slide_type": "skip"
    }
   },
   "source": [
    "## computation-powered Bayesian stats\n",
    "\n",
    "- Bayesian statistics was infeasible because of **complicated integrals** needed to compute **posterior distributions**.\n",
    "- **M**arkov **C**hain **M**onte **C**arlo (MCMC) sampling enables us to **estimate shape of posterior distributions**; calculus not required."
   ]
  },
  {
   "cell_type": "markdown",
   "metadata": {
    "slideshow": {
     "slide_type": "slide"
    }
   },
   "source": [
    "# common statistical analysis problems"
   ]
  },
  {
   "cell_type": "markdown",
   "metadata": {
    "slideshow": {
     "slide_type": "fragment"
    }
   },
   "source": [
    "- **parameter estimation**: \"is the true value equal to X?\""
   ]
  },
  {
   "cell_type": "markdown",
   "metadata": {
    "slideshow": {
     "slide_type": "fragment"
    }
   },
   "source": [
    "- **comparison between experimental groups**: \"are the treatments different from the control(s)?\""
   ]
  },
  {
   "cell_type": "markdown",
   "metadata": {
    "slideshow": {
     "slide_type": "slide"
    }
   },
   "source": [
    "# problem type 1: parameter estimation\n",
    "\n",
    "\"is the true value equal to X?\"\n",
    "\n",
    "OR\n",
    "\n",
    "\"given the data, for the parameter of interest, what is the probability distribution over the possible values?\""
   ]
  },
  {
   "cell_type": "markdown",
   "metadata": {
    "slideshow": {
     "slide_type": "slide"
    }
   },
   "source": [
    "# example 1: the obligatory coin toss problem\n",
    "\n",
    "I tossed my coin $ n $ times, and it came up as heads $ h $ times. Is it biased?"
   ]
  },
  {
   "cell_type": "markdown",
   "metadata": {
    "slideshow": {
     "slide_type": "subslide"
    }
   },
   "source": [
    "## parameterized problem\n",
    "\n",
    "\"I want to know $ p $, the probability of tossing heads. Given $ n $ tosses and $ h $ observed heads, is it probable that the value of $ p $ is close to $ 0.5$ , say, in the interval $[0.48, 0.52]$?\""
   ]
  },
  {
   "cell_type": "markdown",
   "metadata": {
    "slideshow": {
     "slide_type": "skip"
    }
   },
   "source": [
    "## prior\n",
    "\n",
    "- prior belief about parameter: $ p \\sim Uniform(0, 1) $\n",
    "- likelihood function: $ data \\sim Bernoulli(p) $"
   ]
  },
  {
   "cell_type": "markdown",
   "metadata": {
    "slideshow": {
     "slide_type": "fragment"
    }
   },
   "source": [
    "![](./images/coin_model.jpg)"
   ]
  },
  {
   "cell_type": "code",
   "execution_count": null,
   "metadata": {
    "slideshow": {
     "slide_type": "skip"
    }
   },
   "outputs": [],
   "source": [
    "# Make the data needed for the problem.\n",
    "from random import shuffle\n",
    "total = 30\n",
    "n_heads = 11\n",
    "n_tails = total - n_heads\n",
    "tosses = [1] * n_heads + [0] * n_tails\n",
    "shuffle(tosses)"
   ]
  },
  {
   "cell_type": "markdown",
   "metadata": {
    "slideshow": {
     "slide_type": "subslide"
    }
   },
   "source": [
    "## data"
   ]
  },
  {
   "cell_type": "code",
   "execution_count": null,
   "metadata": {
    "slideshow": {
     "slide_type": "fragment"
    }
   },
   "outputs": [],
   "source": [
    "print(tosses)"
   ]
  },
  {
   "cell_type": "code",
   "execution_count": null,
   "metadata": {
    "slideshow": {
     "slide_type": "skip"
    }
   },
   "outputs": [],
   "source": [
    "def plot_coins():\n",
    "    fig = plt.figure()\n",
    "    ax = fig.add_subplot(1,1,1)\n",
    "    ax.bar(list(Counter(tosses).keys()), list(Counter(tosses).values()))\n",
    "    ax.set_xticks([0, 1])\n",
    "    ax.set_xticklabels(['tails', 'heads'])\n",
    "    ax.set_ylim(0, 20)\n",
    "    ax.set_yticks(np.arange(0, 21, 5))\n",
    "    return fig"
   ]
  },
  {
   "cell_type": "code",
   "execution_count": null,
   "metadata": {
    "slideshow": {
     "slide_type": "fragment"
    }
   },
   "outputs": [],
   "source": [
    "fig = plot_coins()\n",
    "plt.show()    "
   ]
  },
  {
   "cell_type": "markdown",
   "metadata": {
    "slideshow": {
     "slide_type": "subslide"
    }
   },
   "source": [
    "## code"
   ]
  },
  {
   "cell_type": "code",
   "execution_count": null,
   "metadata": {
    "slideshow": {
     "slide_type": "fragment"
    }
   },
   "outputs": [],
   "source": [
    "# Context manager syntax. `coin_model` is **just** \n",
    "# a placeholder\n",
    "with pm.Model() as coin_model: \n",
    "    # Distributions are PyMC3 objects.\n",
    "    # Specify prior using Uniform object.\n",
    "    p_prior = pm.Uniform('p', 0, 1)  \n",
    "    \n",
    "    # Specify likelihood using Bernoulli object.\n",
    "    like = pm.Bernoulli('likelihood', p=p_prior, \n",
    "                        observed=tosses)  \n",
    "                        # \"observed=data\" is key\n",
    "                        # for likelihood."
   ]
  },
  {
   "cell_type": "markdown",
   "metadata": {
    "slideshow": {
     "slide_type": "subslide"
    }
   },
   "source": [
    "## MCMC Inference Button (TM)"
   ]
  },
  {
   "cell_type": "code",
   "execution_count": null,
   "metadata": {
    "slideshow": {
     "slide_type": "fragment"
    }
   },
   "outputs": [],
   "source": [
    "with coin_model:\n",
    "    # don't worry about this:\n",
    "    step = pm.Metropolis()\n",
    "    \n",
    "    # focus on this, the Inference Button:\n",
    "    coin_trace = pm.sample(2000, step=step)"
   ]
  },
  {
   "cell_type": "markdown",
   "metadata": {
    "slideshow": {
     "slide_type": "subslide"
    }
   },
   "source": [
    "## results"
   ]
  },
  {
   "cell_type": "code",
   "execution_count": null,
   "metadata": {
    "slideshow": {
     "slide_type": "fragment"
    }
   },
   "outputs": [],
   "source": [
    "pm.traceplot(coin_trace)\n",
    "plt.show()"
   ]
  },
  {
   "cell_type": "code",
   "execution_count": null,
   "metadata": {
    "slideshow": {
     "slide_type": "subslide"
    }
   },
   "outputs": [],
   "source": [
    "pm.plot_posterior(coin_trace[100:], color='#87ceeb', \n",
    "                  rope=[0.48, 0.52], point_estimate='mean', \n",
    "                  ref_val=0.5)\n",
    "plt.show()"
   ]
  },
  {
   "cell_type": "markdown",
   "metadata": {
    "slideshow": {
     "slide_type": "fragment"
    }
   },
   "source": [
    "- <font style=\"color:black; font-weight:bold\">95% highest posterior density (HPD)</font> encompasses the <font style=\"color:red; font-weight:bold\">region of practical equivalence (ROPE)</font>. \n",
    "- GET MORE DATA!"
   ]
  },
  {
   "cell_type": "markdown",
   "metadata": {
    "slideshow": {
     "slide_type": "subslide"
    }
   },
   "source": [
    "# pattern\n",
    "\n",
    "1. parameterize your problem using statistical distributions\n",
    "1. justify your model structure\n",
    "1. write model in PyMC3, hit the **Inference Button<sup>TM</sup>**\n",
    "1. interpret based on posterior distributions\n",
    "1. (optional) with new information, modify model structure."
   ]
  },
  {
   "cell_type": "markdown",
   "metadata": {
    "slideshow": {
     "slide_type": "slide"
    }
   },
   "source": [
    "# example 2: the chemical activity problem\n",
    "\n",
    "I have a newly developed molecule X; how good is X in stopping flu replication?  \n",
    "\n",
    "<!-- mention verbally about the context: flu, replicating, need molecule to stop it -->"
   ]
  },
  {
   "cell_type": "markdown",
   "metadata": {
    "slideshow": {
     "slide_type": "subslide"
    }
   },
   "source": [
    "## experiment\n",
    "\n",
    "- test a range of concentrations of X, measure flu activity\n",
    "\n",
    "- compute **IC<sub>50</sub>**: the concentration of X that causes the replication rate of the virus to be halved."
   ]
  },
  {
   "cell_type": "markdown",
   "metadata": {
    "slideshow": {
     "slide_type": "subslide"
    }
   },
   "source": [
    "## data\n",
    "\n",
    "![](./images/ic50_data.jpg)"
   ]
  },
  {
   "cell_type": "code",
   "execution_count": null,
   "metadata": {
    "slideshow": {
     "slide_type": "skip"
    }
   },
   "outputs": [],
   "source": [
    "import numpy as np\n",
    "chem_data = [(0.00080, 99),\n",
    "(0.00800, 91),\n",
    "(0.08000, 89),\n",
    "(0.40000, 89),\n",
    "(0.80000, 79),\n",
    "(1.60000, 61),\n",
    "(4.00000, 39),\n",
    "(8.00000, 25),\n",
    "(80.00000, 4)]\n",
    "\n",
    "import pandas as pd\n",
    "\n",
    "chem_df = pd.DataFrame(chem_data)\n",
    "chem_df.columns = ['concentration', 'activity']\n",
    "chem_df['concentration_log'] = chem_df['concentration'].apply(lambda x:np.log10(x))\n",
    "# df.set_index('concentration', inplace=True)"
   ]
  },
  {
   "cell_type": "markdown",
   "metadata": {
    "slideshow": {
     "slide_type": "subslide"
    }
   },
   "source": [
    "## parameterized problem\n",
    "\n",
    "given the data, what is the **IC<sub>50</sub>** value of the chemical, and the uncertainty surrounding it?"
   ]
  },
  {
   "cell_type": "markdown",
   "metadata": {
    "slideshow": {
     "slide_type": "skip"
    }
   },
   "source": [
    "## prior\n",
    "\n",
    "- measurement function from domain knowledge: $ m = \\frac{\\beta}{1 + e^{x - IC_{50}}} $\n",
    "- prior belief about constant to be estimated: $ \\beta \\sim HalfNormal(100^2) $\n",
    "- prior belief about parameter of interest: $ log(IC_{50}) \\sim ImproperFlat $\n",
    "- likelihood function: $ data \\sim N(m, 1) $"
   ]
  },
  {
   "cell_type": "markdown",
   "metadata": {
    "slideshow": {
     "slide_type": "subslide"
    }
   },
   "source": [
    "![](./images/ic50_model.jpg)"
   ]
  },
  {
   "cell_type": "markdown",
   "metadata": {
    "slideshow": {
     "slide_type": "subslide"
    }
   },
   "source": [
    "## data"
   ]
  },
  {
   "cell_type": "code",
   "execution_count": null,
   "metadata": {
    "slideshow": {
     "slide_type": "skip"
    }
   },
   "outputs": [],
   "source": [
    "def plot_chemical_data(log=True):\n",
    "    fig = plt.figure(figsize=(10,6))\n",
    "    ax = fig.add_subplot(1,1,1)\n",
    "    if log:\n",
    "        ax.scatter(x=chem_df['concentration_log'], y=chem_df['activity'])\n",
    "        ax.set_xlabel('log10(concentration (mM))', fontsize=20)\n",
    "    else:\n",
    "        ax.scatter(x=chem_df['concentration'], y=chem_df['activity'])\n",
    "        ax.set_xlabel('concentration (mM)', fontsize=20)\n",
    "    ax.set_xticklabels([int(i) for i in ax.get_xticks()], fontsize=18)\n",
    "    ax.set_yticklabels([int(i) for i in ax.get_yticks()], fontsize=18)\n",
    "    \n",
    "    plt.hlines(y=50, xmin=min(ax.get_xlim()), xmax=max(ax.get_xlim()), linestyles='--',)\n",
    "    return fig"
   ]
  },
  {
   "cell_type": "code",
   "execution_count": null,
   "metadata": {
    "slideshow": {
     "slide_type": "fragment"
    }
   },
   "outputs": [],
   "source": [
    "fig = plot_chemical_data(log=True)\n",
    "plt.show()"
   ]
  },
  {
   "cell_type": "markdown",
   "metadata": {
    "slideshow": {
     "slide_type": "subslide"
    }
   },
   "source": [
    "## code"
   ]
  },
  {
   "cell_type": "code",
   "execution_count": null,
   "metadata": {
    "slideshow": {
     "slide_type": "fragment"
    }
   },
   "outputs": [],
   "source": [
    "with pm.Model() as ic50_model:\n",
    "    beta = pm.HalfNormal('beta', sd=100**2)\n",
    "    ic50_log10 = pm.Flat('IC50_log10')  # Flat prior\n",
    "    # MATH WITH DISTRIBUTION OBJECTS!\n",
    "    measurements = beta / (1 + np.exp(chem_df['concentration_log'].values - \n",
    "                                      ic50_log10))\n",
    "    \n",
    "    y_like = pm.Normal('y_like', mu=measurements, \n",
    "                       observed=chem_df['activity'])\n",
    "    # Deterministic transformations.\n",
    "    ic50 = pm.Deterministic('IC50', np.power(10, ic50_log10))"
   ]
  },
  {
   "cell_type": "markdown",
   "metadata": {
    "slideshow": {
     "slide_type": "subslide"
    }
   },
   "source": [
    "## MCMC Inference Button (TM)"
   ]
  },
  {
   "cell_type": "code",
   "execution_count": null,
   "metadata": {
    "slideshow": {
     "slide_type": "fragment"
    }
   },
   "outputs": [],
   "source": [
    "with ic50_model:\n",
    "    step = pm.Metropolis()\n",
    "    ic50_trace = pm.sample(100000, step=step)"
   ]
  },
  {
   "cell_type": "code",
   "execution_count": null,
   "metadata": {
    "slideshow": {
     "slide_type": "subslide"
    }
   },
   "outputs": [],
   "source": [
    "pm.traceplot(ic50_trace[2000:], varnames=['IC50_log10', 'IC50'])  # live: sample from step 2000 onwards.\n",
    "plt.show()"
   ]
  },
  {
   "cell_type": "markdown",
   "metadata": {
    "slideshow": {
     "slide_type": "subslide"
    }
   },
   "source": [
    "## results"
   ]
  },
  {
   "cell_type": "code",
   "execution_count": null,
   "metadata": {
    "slideshow": {
     "slide_type": "fragment"
    }
   },
   "outputs": [],
   "source": [
    "pm.plot_posterior(ic50_trace[4000:], varnames=['IC50'], \n",
    "                  color='#87ceeb', point_estimate='mean')\n",
    "plt.show()"
   ]
  },
  {
   "cell_type": "markdown",
   "metadata": {
    "slideshow": {
     "slide_type": "fragment"
    }
   },
   "source": [
    "The IC<sub>50</sub> of the chemical is between approx. [2 mM, 2.4 mM] (95% HPD). It's kind of a bad chemical; uncertainty doesn't matter much here, because of the scale of badness... "
   ]
  },
  {
   "cell_type": "markdown",
   "metadata": {
    "slideshow": {
     "slide_type": "slide"
    }
   },
   "source": [
    "# problem type 2: comparison between treatment groups\n",
    "\n",
    "\"are my experimental treatments different from my controls?\""
   ]
  },
  {
   "cell_type": "markdown",
   "metadata": {
    "slideshow": {
     "slide_type": "slide"
    }
   },
   "source": [
    "# example 1: the drug IQ problem\n",
    "\n",
    "does a drug treatment affect IQ scores? \n",
    "\n",
    "(documented in Kruschke, 2013, example modified from PyMC3 documentation)"
   ]
  },
  {
   "cell_type": "code",
   "execution_count": null,
   "metadata": {
    "slideshow": {
     "slide_type": "skip"
    }
   },
   "outputs": [],
   "source": [
    "drug = [  99.,  110.,  107.,  104.,  103.,  105.,  105.,  110.,   99.,\n",
    "        109.,  100.,  102.,  104.,  104.,  100.,  104.,  101.,  104.,\n",
    "        101.,  100.,  109.,  104.,  105.,  112.,   97.,  106.,  103.,\n",
    "        101.,  101.,  104.,   96.,  102.,  101.,  100.,   92.,  108.,\n",
    "         97.,  106.,   96.,   90.,  109.,  108.,  105.,  104.,  110.,\n",
    "         92.,  100.]\n",
    "\n",
    "placebo = [  95.,  105.,  103.,   99.,  104.,   98.,  103.,  104.,  102.,\n",
    "         91.,   97.,  101.,  100.,  113.,   98.,  102.,  100.,  105.,\n",
    "         97.,   94.,  104.,   92.,   98.,  105.,  106.,  101.,  106.,\n",
    "        105.,  101.,  105.,  102.,   95.,   91.,   99.,   96.,  102.,\n",
    "         94.,   93.,   99.,   99.,  113.,   96.]\n",
    "\n",
    "def ECDF(data):\n",
    "    x = np.sort(data)\n",
    "    y = np.cumsum(x) / np.sum(x)\n",
    "    \n",
    "    return x, y\n",
    "\n",
    "def plot_drug():\n",
    "    fig = plt.figure()\n",
    "    ax = fig.add_subplot(1,1,1)\n",
    "    x_drug, y_drug = ECDF(drug)\n",
    "    ax.plot(x_drug, y_drug, label='drug, n={0}'.format(len(drug)))\n",
    "    x_placebo, y_placebo = ECDF(placebo)\n",
    "    ax.plot(x_placebo, y_placebo, label='placebo, n={0}'.format(len(placebo)))\n",
    "    ax.legend()\n",
    "    ax.set_xlabel('IQ Score')\n",
    "    ax.set_ylabel('Cumulative Frequency')\n",
    "    ax.hlines(0.5, ax.get_xlim()[0], ax.get_xlim()[1], linestyle='--')\n",
    "    \n",
    "    return fig"
   ]
  },
  {
   "cell_type": "code",
   "execution_count": null,
   "metadata": {
    "slideshow": {
     "slide_type": "skip"
    }
   },
   "outputs": [],
   "source": [
    "# For my own curiosity: from a frequentist point of view, is there a \"statistically significant\" difference\n",
    "# between the two treatments?\n",
    "\n",
    "from scipy.stats import ttest_ind\n",
    "\n",
    "ttest_ind(drug, placebo)"
   ]
  },
  {
   "cell_type": "markdown",
   "metadata": {
    "slideshow": {
     "slide_type": "subslide"
    }
   },
   "source": [
    "## experiment\n",
    "\n",
    "- randomly assign participants to two treatment groups: \n",
    "    - `+drug` vs. `-drug`\n",
    "- measure IQ score for each participant"
   ]
  },
  {
   "cell_type": "markdown",
   "metadata": {
    "slideshow": {
     "slide_type": "skip"
    }
   },
   "source": [
    "## priors\n",
    "- measured data are t-distributed: $ data \\sim StudentsT(\\mu, \\sigma, \\nu) $\n",
    "- means are normally distributed: $ \\mu \\sim N(0, 100^2) $\n",
    "- degrees of freedom are exponentially-distributed: $ \\nu \\sim Exp(30) $\n",
    "- variance is positively-distributed: $ \\sigma \\sim HalfCauchy(100^2) $"
   ]
  },
  {
   "cell_type": "markdown",
   "metadata": {
    "slideshow": {
     "slide_type": "subslide"
    }
   },
   "source": [
    "![](./images/kruschke_model.jpg)"
   ]
  },
  {
   "cell_type": "markdown",
   "metadata": {
    "slideshow": {
     "slide_type": "subslide"
    }
   },
   "source": [
    "## data"
   ]
  },
  {
   "cell_type": "code",
   "execution_count": null,
   "metadata": {
    "slideshow": {
     "slide_type": "fragment"
    }
   },
   "outputs": [],
   "source": [
    "fig = plot_drug()\n",
    "plt.show()"
   ]
  },
  {
   "cell_type": "markdown",
   "metadata": {
    "slideshow": {
     "slide_type": "subslide"
    }
   },
   "source": [
    "## code"
   ]
  },
  {
   "cell_type": "code",
   "execution_count": null,
   "metadata": {
    "slideshow": {
     "slide_type": "skip"
    }
   },
   "outputs": [],
   "source": [
    "y_vals = np.concatenate([drug, placebo])\n",
    "labels = ['drug'] * len(drug) + ['placebo'] * len(placebo)\n",
    "\n",
    "data = pd.DataFrame([y_vals, labels]).T\n",
    "data.columns = ['IQ', 'treatment']"
   ]
  },
  {
   "cell_type": "code",
   "execution_count": null,
   "metadata": {
    "slideshow": {
     "slide_type": "fragment"
    }
   },
   "outputs": [],
   "source": [
    "with pm.Model() as kruschke_model:\n",
    "    # Focus on the use of Distribution Objects.\n",
    "    # Linking Distribution Objects together is done by \n",
    "    # passing objects into other objects' parameters.\n",
    "    mu_drug = pm.Normal('mu_drug', mu=0, sd=100**2)\n",
    "    mu_placebo = pm.Normal('mu_placebo', mu=0, sd=100**2)\n",
    "    sigma_drug = pm.HalfCauchy('sigma_drug', beta=100)\n",
    "    sigma_placebo = pm.HalfCauchy('sigma_placebo', beta=100)\n",
    "    nu = pm.Exponential('nu', lam=1/29) + 1\n",
    "    \n",
    "    drug_like = pm.StudentT('drug', nu=nu, mu=mu_drug, \n",
    "                            sd=sigma_drug, observed=drug)\n",
    "    placebo_like = pm.StudentT('placebo', nu=nu, mu=mu_placebo, \n",
    "                               sd=sigma_placebo, observed=placebo)\n",
    "    diff_means = pm.Deterministic('diff_means', mu_drug - mu_placebo)\n",
    "    pooled_sd = pm.Deterministic('pooled_sd', \n",
    "                                 np.sqrt(np.power(sigma_drug, 2) + \n",
    "                                         np.power(sigma_placebo, 2) / 2))\n",
    "    effect_size = pm.Deterministic('effect_size', \n",
    "                                   diff_means / pooled_sd)"
   ]
  },
  {
   "cell_type": "markdown",
   "metadata": {
    "slideshow": {
     "slide_type": "subslide"
    }
   },
   "source": [
    "## MCMC Inference Button (TM)"
   ]
  },
  {
   "cell_type": "code",
   "execution_count": null,
   "metadata": {
    "slideshow": {
     "slide_type": "fragment"
    }
   },
   "outputs": [],
   "source": [
    "with kruschke_model:\n",
    "    kruschke_trace = pm.sample(10000, step=pm.Metropolis())"
   ]
  },
  {
   "cell_type": "markdown",
   "metadata": {
    "slideshow": {
     "slide_type": "subslide"
    }
   },
   "source": [
    "## results"
   ]
  },
  {
   "cell_type": "code",
   "execution_count": null,
   "metadata": {
    "slideshow": {
     "slide_type": "fragment"
    }
   },
   "outputs": [],
   "source": [
    "pm.traceplot(kruschke_trace[2000:], \n",
    "             varnames=['mu_drug', 'mu_placebo'])\n",
    "plt.show()"
   ]
  },
  {
   "cell_type": "code",
   "execution_count": null,
   "metadata": {
    "slideshow": {
     "slide_type": "subslide"
    }
   },
   "outputs": [],
   "source": [
    "pm.plot_posterior(kruschke_trace[2000:], color='#87ceeb',\n",
    "            varnames=['mu_drug', 'mu_placebo', 'diff_means'])\n",
    "plt.show()"
   ]
  },
  {
   "cell_type": "markdown",
   "metadata": {
    "slideshow": {
     "slide_type": "fragment"
    }
   },
   "source": [
    "- Difference in mean IQ: [0.5, 4.6]\n",
    "- Frequentist p-value: $ 0.02 $ (!!!!!!!!)"
   ]
  },
  {
   "cell_type": "code",
   "execution_count": null,
   "metadata": {
    "slideshow": {
     "slide_type": "skip"
    }
   },
   "outputs": [],
   "source": [
    "def get_forestplot_line(ax, kind):\n",
    "    widths = {'median': 2.8, 'iqr': 2.0, 'hpd': 1.0}\n",
    "    assert kind in widths.keys(), f'line kind must be one of {widths.keys()}'\n",
    "    lines = []\n",
    "    for child in ax.get_children():\n",
    "        if isinstance(child, mpl.lines.Line2D) and np.allclose(child.get_lw(), widths[kind]):\n",
    "            lines.append(child)\n",
    "    return lines\n",
    "\n",
    "def adjust_forestplot_for_slides(ax):    \n",
    "    for line in get_forestplot_line(ax, kind='median'):\n",
    "        line.set_markersize(10)\n",
    "\n",
    "    for line in get_forestplot_line(ax, kind='iqr'):\n",
    "        line.set_linewidth(5)\n",
    "\n",
    "    for line in get_forestplot_line(ax, kind='hpd'):\n",
    "        line.set_linewidth(3)\n",
    "        \n",
    "    return ax"
   ]
  },
  {
   "cell_type": "code",
   "execution_count": null,
   "metadata": {
    "slideshow": {
     "slide_type": "subslide"
    }
   },
   "outputs": [],
   "source": [
    "pm.forestplot(kruschke_trace[2000:], \n",
    "          varnames=['mu_drug', 'mu_placebo'])\n",
    "ax = plt.gca()\n",
    "ax = adjust_forestplot_for_slides(ax)\n",
    "plt.show()"
   ]
  },
  {
   "cell_type": "markdown",
   "metadata": {
    "slideshow": {
     "slide_type": "fragment"
    }
   },
   "source": [
    "**Forest plot**: 95% HPD (thin line), IQR (thicker line), and median (dot) of the posterior distribution on the same axes, allowing us to directly compare the treatment and control."
   ]
  },
  {
   "cell_type": "code",
   "execution_count": null,
   "metadata": {
    "slideshow": {
     "slide_type": "skip"
    }
   },
   "outputs": [],
   "source": [
    "def overlay_effect_size(ax):\n",
    "    height = ax.get_ylim()[1] * 0.5\n",
    "    ax.hlines(height, 0, 0.2, 'red', lw=5)\n",
    "    ax.hlines(height, 0.2, 0.8, 'blue', lw=5)\n",
    "    ax.hlines(height, 0.8, ax.get_xlim()[1], 'green', lw=5)"
   ]
  },
  {
   "cell_type": "code",
   "execution_count": null,
   "metadata": {
    "slideshow": {
     "slide_type": "subslide"
    }
   },
   "outputs": [],
   "source": [
    "ax = pm.plot_posterior(kruschke_trace[2000:], \n",
    "                       varnames=['effect_size'],\n",
    "                       color='#87ceeb')\n",
    "overlay_effect_size(ax)"
   ]
  },
  {
   "cell_type": "markdown",
   "metadata": {
    "slideshow": {
     "slide_type": "fragment"
    }
   },
   "source": [
    "- Effect size (Cohen's d, <font style=\"color:red;\">none to small</font>, <font style=\"color:blue;\">medium</font>, <font style=\"color:green;\">large</font>) could be anywhere from essentially nothing to large (95% HPD [0.0, 0.77]). \n",
    "- Improvement in IQ is 0-4 points.\n",
    "- The drug is very likely inconsequential.\n",
    "- No evidence of **biological significance**."
   ]
  },
  {
   "cell_type": "markdown",
   "metadata": {
    "slideshow": {
     "slide_type": "slide"
    }
   },
   "source": [
    "# example 2: the phone sterilization problem\n",
    "\n",
    "compared to two commonly-used treatments, do my \"fancy methods\" sterilize my phone better?"
   ]
  },
  {
   "cell_type": "markdown",
   "metadata": {
    "slideshow": {
     "slide_type": "subslide"
    }
   },
   "source": [
    "## the experiment design\n",
    "\n",
    "- randomly assign phones to one of six groups: 4 \"fancy\" methods + 2 \"control\" methods.\n",
    "- swab phone before and after treatment, grow bacteria\n",
    "- **count** number of bacteria colonies formed, compare counts before and after"
   ]
  },
  {
   "cell_type": "code",
   "execution_count": null,
   "metadata": {
    "slideshow": {
     "slide_type": "skip"
    }
   },
   "outputs": [],
   "source": [
    "renamed_treatments = dict()\n",
    "renamed_treatments['FBM_2'] = 'FM1'\n",
    "renamed_treatments['bleachwipe'] = 'CTRL1'\n",
    "renamed_treatments['ethanol'] = 'CTRL2'\n",
    "renamed_treatments['kimwipe'] = 'FM2'\n",
    "renamed_treatments['phonesoap'] = 'FM3'\n",
    "renamed_treatments['quatricide'] = 'FM4'\n",
    "\n",
    "# Reload the data one more time.\n",
    "data = pd.read_csv('datasets/smartphone_sanitization_manuscript.csv', na_values=['#DIV/0!'])\n",
    "del data['perc_reduction colonies']\n",
    "\n",
    "# Exclude cellblaster data\n",
    "data = data[data['treatment'] != 'CB30']\n",
    "data = data[data['treatment'] != 'cellblaster']\n",
    "\n",
    "# Rename treatments\n",
    "data['treatment'] = data['treatment'].apply(lambda x: renamed_treatments[x])\n",
    "\n",
    "# Sort the data according to the treatments.\n",
    "treatment_order = ['FM1', 'FM2', 'FM3', 'FM4', 'CTRL1', 'CTRL2']\n",
    "data['treatment'] = data['treatment'].astype('category')\n",
    "data['treatment'].cat.set_categories(treatment_order, inplace=True)\n",
    "data['treatment'] = data['treatment'].cat.codes.astype('int32')\n",
    "data = data.sort_values(['treatment']).reset_index(drop=True)\n",
    "data['site'] = data['site'].astype('category').cat.codes.astype('int32')\n",
    "\n",
    "data['frac_change_colonies'] = ((data['colonies_post'] - data['colonies_pre']) \n",
    "                                / data['colonies_pre'])\n",
    "data['frac_change_colonies'] = pm.floatX(data['frac_change_colonies'])\n",
    "del data['screen protector']\n",
    "\n",
    "# Change dtypes to int32 for GPU usage.\n",
    "def change_dtype(data, dtype='int32'):\n",
    "    return data.astype(dtype)\n",
    "\n",
    "cols_to_change_ints = ['sample_id', 'colonies_pre', 'colonies_post',\n",
    "                       'morphologies_pre', 'morphologies_post', 'phone ID']\n",
    "\n",
    "cols_to_change_floats = ['year', 'month', 'day', 'perc_reduction morph',\n",
    "                         'phone ID', 'no case',]\n",
    "\n",
    "for col in cols_to_change_ints:\n",
    "    data[col] = change_dtype(data[col], dtype='int32')\n",
    "    \n",
    "for col in cols_to_change_floats:\n",
    "    data[col] = change_dtype(data[col], dtype='float32')\n",
    "\n",
    "data.dtypes\n",
    "\n",
    "\n",
    "# # filter the data such that we have only PhoneSoap (PS-300) and Ethanol (ET)\n",
    "# data_filtered = data[(data['treatment'] == 'PS-300') | (data['treatment'] == 'QA')]\n",
    "# data_filtered = data_filtered[data_filtered['site'] == 'phone']\n",
    "# data_filtered.sample(10)"
   ]
  },
  {
   "cell_type": "markdown",
   "metadata": {
    "slideshow": {
     "slide_type": "subslide"
    }
   },
   "source": [
    "## data"
   ]
  },
  {
   "cell_type": "code",
   "execution_count": null,
   "metadata": {
    "slideshow": {
     "slide_type": "skip"
    }
   },
   "outputs": [],
   "source": [
    "def plot_colonies_data():\n",
    "    fig = plt.figure(figsize=(10,5))\n",
    "    ax1 = fig.add_subplot(2,1,1)\n",
    "    sns.swarmplot(x='treatment', y='colonies_pre', data=data, ax=ax1)\n",
    "    ax1.set_title('pre-treatment')\n",
    "    ax1.set_xlabel('')\n",
    "    ax1.set_ylabel('colonies')\n",
    "    ax2 = fig.add_subplot(2,1,2)\n",
    "    sns.swarmplot(x='treatment', y='colonies_post', data=data, ax=ax2)\n",
    "    ax2.set_title('post-treatment')\n",
    "    ax2.set_ylabel('colonies')\n",
    "    ax2.set_ylim(ax1.get_ylim())\n",
    "    plt.tight_layout()\n",
    "    return fig"
   ]
  },
  {
   "cell_type": "code",
   "execution_count": null,
   "metadata": {
    "slideshow": {
     "slide_type": "fragment"
    }
   },
   "outputs": [],
   "source": [
    "fig = plot_colonies_data()\n",
    "plt.show()"
   ]
  },
  {
   "cell_type": "markdown",
   "metadata": {
    "slideshow": {
     "slide_type": "skip"
    }
   },
   "source": [
    "## priors\n",
    "\n",
    "Counts are **Poisson** distributed. Thus...\n",
    "\n",
    "- Count likelihoods are Poisson distributed: $ data_{i}^{j} \\sim Poisson(\\mu_{i}^{j}), j \\in [pre, post], i \\in [1, 2, 3...] $\n",
    "- Priors for Poisson parameters are discrete uniform distributed: $ \\mu_{i}^{j} \\sim DiscreteUniform(0, 10^{4}), j \\in [pre, post], i \\in [1, 2, 3...] $\n",
    "- Sterilization efficacy is measured by percentage change, defined as: $ \\frac{mu_{pre} - mu_{post}}{mu_{pre}} $"
   ]
  },
  {
   "cell_type": "markdown",
   "metadata": {
    "slideshow": {
     "slide_type": "subslide"
    }
   },
   "source": [
    "![](./images/bacteria_model.jpg)"
   ]
  },
  {
   "cell_type": "markdown",
   "metadata": {
    "slideshow": {
     "slide_type": "subslide"
    }
   },
   "source": [
    "## code"
   ]
  },
  {
   "cell_type": "code",
   "execution_count": null,
   "metadata": {
    "slideshow": {
     "slide_type": "fragment"
    }
   },
   "outputs": [],
   "source": [
    "with pm.Model() as poisson_estimation:\n",
    "    \n",
    "    mu_pre = pm.DiscreteUniform('pre_mus', lower=0, upper=10000, \n",
    "                                shape=len(treatment_order))\n",
    "    pre_mus = mu_pre[data['treatment'].values]  # fancy indexing!!\n",
    "    pre_counts = pm.Poisson('pre_counts', mu=pre_mus, \n",
    "                            observed=pm.floatX(data['colonies_pre']))\n",
    "    \n",
    "    mu_post = pm.DiscreteUniform('post_mus', lower=0, upper=10000, \n",
    "                                 shape=len(treatment_order))\n",
    "    post_mus = mu_post[data['treatment'].values]  # fancy indexing!!\n",
    "    post_counts = pm.Poisson('post_counts', mu=post_mus, \n",
    "                             observed=pm.floatX(data['colonies_post']))\n",
    "\n",
    "    perc_change = pm.Deterministic('perc_change', \n",
    "                                   100 * (mu_pre - mu_post) / mu_pre)     "
   ]
  },
  {
   "cell_type": "markdown",
   "metadata": {
    "slideshow": {
     "slide_type": "subslide"
    }
   },
   "source": [
    "## MCMC Inference Button (TM)"
   ]
  },
  {
   "cell_type": "code",
   "execution_count": null,
   "metadata": {
    "slideshow": {
     "slide_type": "fragment"
    }
   },
   "outputs": [],
   "source": [
    "with poisson_estimation:\n",
    "    poisson_trace = pm.sample(200000)"
   ]
  },
  {
   "cell_type": "code",
   "execution_count": null,
   "metadata": {
    "slideshow": {
     "slide_type": "skip"
    }
   },
   "outputs": [],
   "source": [
    "pm.traceplot(poisson_trace[50000:], varnames=['pre_mus', 'post_mus'])\n",
    "plt.show()"
   ]
  },
  {
   "cell_type": "markdown",
   "metadata": {
    "slideshow": {
     "slide_type": "subslide"
    }
   },
   "source": [
    "## results"
   ]
  },
  {
   "cell_type": "code",
   "execution_count": null,
   "metadata": {
    "slideshow": {
     "slide_type": "fragment"
    }
   },
   "outputs": [],
   "source": [
    "pm.forestplot(poisson_trace[50000:], varnames=['perc_change'], \n",
    "              ylabels=treatment_order, xrange=[0, 110])\n",
    "plt.xlabel('Percentage Reduction')\n",
    "\n",
    "ax = plt.gca()\n",
    "ax = adjust_forestplot_for_slides(ax)"
   ]
  },
  {
   "cell_type": "markdown",
   "metadata": {
    "slideshow": {
     "slide_type": "slide"
    }
   },
   "source": [
    "# problem type 3: complicated stuff"
   ]
  },
  {
   "cell_type": "markdown",
   "metadata": {
    "slideshow": {
     "slide_type": "slide"
    }
   },
   "source": [
    "# example: bayesian neural networks\n",
    "\n",
    "a.k.a. bayesian deep learning"
   ]
  },
  {
   "cell_type": "markdown",
   "metadata": {
    "slideshow": {
     "slide_type": "subslide"
    }
   },
   "source": [
    "![bayesian neural networks](./images/bayesian-neural-net.jpg)"
   ]
  },
  {
   "cell_type": "markdown",
   "metadata": {
    "slideshow": {
     "slide_type": "subslide"
    }
   },
   "source": [
    "[Forest Cover Notebook](https://github.com/ericmjl/bayesian-analysis-recipes/blob/master/multiclass-classification-neural-network.ipynb)"
   ]
  },
  {
   "cell_type": "markdown",
   "metadata": {
    "slideshow": {
     "slide_type": "slide"
    }
   },
   "source": [
    "# concepts featured\n",
    "\n",
    "- Parameter Estimation:\n",
    "    - **Coin Toss:** Priors & Posteriors\n",
    "    - **IC<sub>50</sub>:** Link functions & Deterministic computations\n",
    "- Control vs. Treatment:\n",
    "    - **Drug IQ:** One treatment vs. one control\n",
    "    - **Phone Sterilization:** Multiple treatments vs. multiple controls.\n",
    "- Bayesian Neural Nets:\n",
    "    - **Forest Cover:** Parameter priors & Approximate inference."
   ]
  },
  {
   "cell_type": "markdown",
   "metadata": {
    "slideshow": {
     "slide_type": "slide"
    }
   },
   "source": [
    "# pattern\n",
    "\n",
    "1. parameterize your problem using statistical distributions\n",
    "1. justify your model structure\n",
    "1. write model in PyMC3, hit the **Inference Button<sup>TM</sup>**\n",
    "1. interpret based on posterior distributions\n",
    "1. (optional) with new information, modify model structure."
   ]
  },
  {
   "cell_type": "markdown",
   "metadata": {
    "slideshow": {
     "slide_type": "skip"
    }
   },
   "source": [
    "# bayesian estimation\n",
    "\n",
    "- write a **descriptive** model for how the data were generated.\n",
    "    - original bayes: do this **before** seeing your data.\n",
    "    - empirical bayes: do this **after** seeing your data.\n",
    "- estimate **posterior distributions** of model parameters of interest.\n",
    "- **deterministically compute** posterior distributions of derived parameters."
   ]
  },
  {
   "cell_type": "markdown",
   "metadata": {
    "slideshow": {
     "slide_type": "skip"
    }
   },
   "source": [
    "# resources\n",
    "\n",
    "- John K. Kruschke's [books][kruschke_books], [paper][kruschke_paper], and [video][kruschke_video].\n",
    "- Statistical Re-thinking [book][mcelreath]\n",
    "- Jake Vanderplas' [blog post][jakevdp_blog] on the differences between Frequentism and Bayesianism.\n",
    "- PyMC3 [examples & documentation][pymc3]\n",
    "- Andrew Gelman's [blog][gelman]\n",
    "- Recommendations for prior distributions [wiki][priors] \n",
    "- Cam Davidson-Pilon's [Bayesian Methods for Hackers][bayes_hacks]\n",
    "- My [repository][bayes_recipes] of Bayesian data analysis recipes.\n",
    "\n",
    "[kruschke_books]: https://sites.google.com/site/doingbayesiandataanalysis/\n",
    "[kruschke_paper]: http://www.indiana.edu/~kruschke/BEST/\n",
    "[kruschke_video]: https://www.youtube.com/watch?v=fhw1j1Ru2i0&feature=youtu.be\n",
    "[jakevdp_blog]: http://jakevdp.github.io/blog/2014/03/11/frequentism-and-bayesianism-a-practical-intro/\n",
    "[pymc3]: https://pymc-devs.github.io/pymc3/examples.html\n",
    "[mcelreath]: http://xcelab.net/rm/statistical-rethinking/\n",
    "[gelman]: http://andrewgelman.com/\n",
    "[priors]: https://github.com/stan-dev/stan/wiki/Prior-Choice-Recommendations\n",
    "[bayes_hacks]: https://github.com/CamDavidsonPilon/Probabilistic-Programming-and-Bayesian-Methods-for-Hackers\n",
    "[bayes_recipes]: https://github.com/ericmjl/bayesian-analysis-recipes"
   ]
  },
  {
   "cell_type": "markdown",
   "metadata": {
    "slideshow": {
     "slide_type": "slide"
    }
   },
   "source": [
    "# GO BAYES!\n",
    "\n",
    "- Full notebook with bonus resources: https://github.com/ericmjl/bayesian-stats-talk\n",
    "- Twitter: [@ericmjl](https://twitter.com/ericmjl)\n",
    "- Website: [ericmjl.com](http://www.ericmjl.com)"
   ]
  }
 ],
 "metadata": {
  "celltoolbar": "Slideshow",
  "kernelspec": {
   "display_name": "Environment (conda_bayesian)",
   "language": "python",
   "name": "conda_bayesian"
  },
  "language_info": {
   "codemirror_mode": {
    "name": "ipython",
    "version": 3
   },
   "file_extension": ".py",
   "mimetype": "text/x-python",
   "name": "python",
   "nbconvert_exporter": "python",
   "pygments_lexer": "ipython3",
   "version": "3.6.1"
  },
  "toc": {
   "colors": {
    "hover_highlight": "#DAA520",
    "navigate_num": "#000000",
    "navigate_text": "#333333",
    "running_highlight": "#FF0000",
    "selected_highlight": "#FFD700",
    "sidebar_border": "#EEEEEE",
    "wrapper_background": "#FFFFFF"
   },
   "moveMenuLeft": true,
   "nav_menu": {
    "height": "512px",
    "width": "252px"
   },
   "navigate_menu": true,
   "number_sections": true,
   "sideBar": true,
   "threshold": 4,
   "toc_cell": false,
   "toc_position": {
    "height": "633px",
    "left": "0px",
    "right": "1258px",
    "top": "106px",
    "width": "182px"
   },
   "toc_section_display": "block",
   "toc_window_display": true,
   "widenNotebook": false
  }
 },
 "nbformat": 4,
 "nbformat_minor": 2
}
