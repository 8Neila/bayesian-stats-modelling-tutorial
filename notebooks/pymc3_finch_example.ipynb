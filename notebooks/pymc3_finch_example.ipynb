{
 "cells": [
  {
   "cell_type": "markdown",
   "metadata": {},
   "source": [
    "This is a short example that I am thinking of putting in the Parameter Estimation section of the tutorial (NB2). Justin Bois suggested busting out sampling at this point and it may be nice to introduce PyMC3 with this small example of Finch beak lengths."
   ]
  },
  {
   "cell_type": "code",
   "execution_count": null,
   "metadata": {},
   "outputs": [],
   "source": [
    "#Import packages\n",
    "import numpy as np\n",
    "import pandas as pd\n",
    "import seaborn as sns\n",
    "import matplotlib.pyplot as plt\n",
    "import pymc3 as pm\n",
    "%matplotlib inline\n",
    "sns.set()"
   ]
  },
  {
   "cell_type": "code",
   "execution_count": null,
   "metadata": {},
   "outputs": [],
   "source": [
    "# Import and view head of data\n",
    "df_12 = pd.read_csv('../data/finch_beaks_2012.csv')\n",
    "df_12.head()"
   ]
  },
  {
   "cell_type": "code",
   "execution_count": null,
   "metadata": {},
   "outputs": [],
   "source": [
    "df_fortis = df_12.loc[df_12.species == 'fortis']\n",
    "df_scandens = df_12.loc[df_12.species == 'scandens']\n",
    "\n",
    "with pm.Model() as model:\n",
    "    \"\"\"\n",
    "    The priors for each group.\n",
    "    \"\"\"\n",
    "    μ_1 = pm.Normal('μ_1', mu=10, sd=5)\n",
    "    σ_1 = pm.Lognormal('σ_1', 0, 10)\n",
    "    μ_2 = pm.Normal('μ_2', mu=10, sd=5)\n",
    "    σ_2 = pm.Lognormal('σ_2', 0, 10)\n",
    "    # Gaussian Likelihoods\n",
    "    y_1 = pm.Normal('y_1', mu=μ_1, sd=σ_1, observed=df_fortis.blength)\n",
    "    y_2 = pm.Normal('y_2', mu=μ_2, sd=σ_2, observed=df_scandens.blength)\n",
    "    # Calculate the effect size and its uncertainty.\n",
    "    diff_means = pm.Deterministic('diff_means', μ_1 - μ_2)\n",
    "    pooled_sd = pm.Deterministic('pooled_sd', \n",
    "                                 np.sqrt(np.power(σ_1, 2) + \n",
    "                                         np.power(σ_2, 2) / 2))\n",
    "    effect_size = pm.Deterministic('effect_size', \n",
    "                                   diff_means / pooled_sd)\n",
    "# bust it out & sample\n",
    "with model:\n",
    "    samples = pm.fit(random_seed=42).sample(2000)\n",
    "pm.plot_posterior(samples);"
   ]
  },
  {
   "cell_type": "code",
   "execution_count": null,
   "metadata": {},
   "outputs": [],
   "source": [
    "# Construct the model\n",
    "with pm.Model() as finch_model:\n",
    "    # Prior on mean, variance\n",
    "    μ = pm.Normal('μ', mu=10, sd=5)\n",
    "    σ = pm.Lognormal('σ', 0, 10)\n",
    "    # Gaussian Likelihood\n",
    "    y = pm.Normal('y', mu=μ, sd=σ, observed=df_12.blength)"
   ]
  },
  {
   "cell_type": "code",
   "execution_count": null,
   "metadata": {},
   "outputs": [],
   "source": [
    "# Sample from that shit!\n",
    "with finch_model:\n",
    "    samples = pm.fit(random_seed=42).sample(1000)\n",
    " \n",
    "# Plot posterior\n",
    "pm.plot_posterior(samples, varnames=['μ']);"
   ]
  },
  {
   "cell_type": "code",
   "execution_count": null,
   "metadata": {},
   "outputs": [],
   "source": [
    "# click-through rates\n",
    "p_a = 0.15\n",
    "p_b = 0.16\n",
    "N = 150\n",
    "n_successes_a = np.random.binomial(N,p_a)\n",
    "n_successes_b = np.random.binomial(N,p_b)"
   ]
  },
  {
   "cell_type": "code",
   "execution_count": null,
   "metadata": {},
   "outputs": [],
   "source": [
    "df_fortis = df_12.loc[df_12.species == 'fortis']\n",
    "df_scandens = df_12.loc[df_12.species == 'scandens']\n"
   ]
  },
  {
   "cell_type": "code",
   "execution_count": null,
   "metadata": {},
   "outputs": [],
   "source": [
    "df_fortis = df_12.loc[df_12.species == 'fortis']\n",
    "df_scandens = df_12.loc[df_12.species == 'scandens']\n",
    "\n",
    "with pm.Model() as model:\n",
    "    \"\"\"\n",
    "    The priors for each group.\n",
    "    \"\"\"\n",
    "    μ_1 = pm.Normal('μ_1', mu=10, sd=5)\n",
    "    σ_1 = pm.Lognormal('σ_1', 0, 10)\n",
    "    μ_2 = pm.Normal('μ_2', mu=10, sd=5)\n",
    "    σ_2 = pm.Lognormal('σ_2', 0, 10)\n",
    "    #ν = pm.Exponential('nu', lam=1/29) + 1\n",
    "    # Gaussian Likelihoods\n",
    "    y_1 = pm.Normal('y_1', mu=μ_1, sd=σ_1, observed=df_fortis.blength)\n",
    "    y_2 = pm.Normal('y_2', mu=μ_2, sd=σ_2, observed=df_scandens.blength)\n",
    "    # Calculate the effect size and its uncertainty.\n",
    "    diff_means = pm.Deterministic('diff_means', μ_1 - μ_2)"
   ]
  },
  {
   "cell_type": "code",
   "execution_count": null,
   "metadata": {},
   "outputs": [],
   "source": [
    "# bust it out & sample\n",
    "with model:\n",
    "    samples = pm.fit(random_seed=42).sample(2000)"
   ]
  },
  {
   "cell_type": "code",
   "execution_count": null,
   "metadata": {},
   "outputs": [],
   "source": [
    "pm.plot_posterior(samples, varnames=['μ_1', 'μ_2', 'diff_means']);"
   ]
  },
  {
   "cell_type": "markdown",
   "metadata": {},
   "source": [
    "## Click through rates notes"
   ]
  },
  {
   "cell_type": "markdown",
   "metadata": {},
   "source": [
    "Bayesian A/B testing example using PyMC3:"
   ]
  },
  {
   "cell_type": "code",
   "execution_count": null,
   "metadata": {},
   "outputs": [],
   "source": [
    "# Gernerate click data\n",
    "np.random.seed(42)\n",
    "\n",
    "# click-through rates\n",
    "p_a = 0.15\n",
    "p_b = 0.20\n",
    "N = 1000\n",
    "successes_a = np.random.uniform(size=N) <= p_a\n",
    "successes_b = np.random.uniform(size=N) <= p_b"
   ]
  },
  {
   "cell_type": "code",
   "execution_count": null,
   "metadata": {},
   "outputs": [],
   "source": [
    "# Build model of p_a\n",
    "with pm.Model() as Model:\n",
    "    # Prior on p\n",
    "    prob = pm.Uniform('p')\n",
    "    # Binomial Likelihood\n",
    "    y = pm.Bernoulli('y', p=prob, observed=successes_a)\n",
    "    #y = pm.Bernoulli('y', )\n",
    "with Model:\n",
    "    samples = pm.fit(random_seed=42).sample(1000)\n",
    "pm.plot_posterior(samples);"
   ]
  },
  {
   "cell_type": "code",
   "execution_count": null,
   "metadata": {},
   "outputs": [],
   "source": [
    "# Build A/B test model inc diff\n",
    "with pm.Model() as Model:\n",
    "    # Prior on p\n",
    "    prob_a = pm.Uniform('p_a')\n",
    "    prob_b = pm.Uniform('p_b')\n",
    "    # Binomial Likelihood\n",
    "    y_a = pm.Bernoulli('y_a', p=prob_a, observed=successes_a)\n",
    "    y_b = pm.Bernoulli('y_b', p=prob_b, observed=successes_b)\n",
    "    diff_clicks = pm.Deterministic('diff_clicks', prob_a-prob_b)\n",
    "with Model:\n",
    "    samples = pm.fit(random_seed=42).sample(1000)\n",
    "pm.plot_posterior(samples);"
   ]
  },
  {
   "cell_type": "code",
   "execution_count": null,
   "metadata": {},
   "outputs": [],
   "source": [
    "# Do the same as above but use Binomial, not Bernoulli\n",
    "\n",
    "np.random.seed(42)\n",
    "\n",
    "# click-through rates\n",
    "p_a = 0.15\n",
    "p_b = 0.20\n",
    "N = 1000\n",
    "successes_a = np.sum(np.random.uniform(size=N) <= p_a)\n",
    "successes_b = np.sum(np.random.uniform(size=N) <= p_b)\n",
    "\n",
    "\n",
    "with pm.Model() as Model:\n",
    "    # Prior on p\n",
    "    prob_a = pm.Uniform('p_a')\n",
    "    prob_b = pm.Uniform('p_b')\n",
    "    # Binomial Likelihood\n",
    "    y_a = pm.Binomial('y_a', n=N, p=prob_a, observed=successes_a)\n",
    "    y_b = pm.Binomial('y_b', n=N, p=prob_b, observed=successes_b)\n",
    "    diff_clicks = pm.Deterministic('diff_clicks', prob_a-prob_b)\n",
    "\n",
    "with Model:\n",
    "    samples = pm.fit(random_seed=42).sample(1000)\n",
    "pm.plot_posterior(samples);"
   ]
  }
 ],
 "metadata": {
  "kernelspec": {
   "display_name": "Python 3",
   "language": "python",
   "name": "python3"
  },
  "language_info": {
   "codemirror_mode": {
    "name": "ipython",
    "version": 3
   },
   "file_extension": ".py",
   "mimetype": "text/x-python",
   "name": "python",
   "nbconvert_exporter": "python",
   "pygments_lexer": "ipython3",
   "version": "3.6.6"
  }
 },
 "nbformat": 4,
 "nbformat_minor": 2
}
