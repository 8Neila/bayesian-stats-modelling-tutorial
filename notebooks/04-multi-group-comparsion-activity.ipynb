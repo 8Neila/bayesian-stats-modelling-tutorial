{
 "cells": [
  {
   "cell_type": "code",
   "execution_count": null,
   "metadata": {},
   "outputs": [],
   "source": [
    "import pymc3 as pm\n",
    "import matplotlib.pyplot as plt\n",
    "\n",
    "%load_ext autoreload\n",
    "%autoreload 2\n",
    "%matplotlib inline\n",
    "%config InlineBackend.figure_format = 'retina'"
   ]
  },
  {
   "cell_type": "markdown",
   "metadata": {},
   "source": [
    "# Introduction\n",
    "\n",
    "This notebook is designed to give you more practice with PyMC3 syntax. \n",
    "\n",
    "It is intentionally designed to provide more guidance w.r.t. model definition, i.e. which parameters to use, such that the focus is more on PyMC3 syntax rather than the mechanics of model definition. \n",
    "\n",
    "If you are already feeling comfortable with PyMC3 syntax, and would like to instead move on to practice with model definition, then feel free to move onto notebook 5 instead, where you can play with the Darwin's Finches dataset. That notebook is intentionally designed with much more freedom.\n",
    "\n",
    "## Setup\n",
    "\n",
    "You will be experimentally analyzing the effectiveness of six different phone sterilization methods against two control methods. This research was conducted at MIT's Division of Comparative Medicine, and was published this year in the Journal of the American Association for Laboratory Animal Science. If you're interested, you can read the paper [here][jaalas].\n",
    "\n",
    "[jaalas]: https://www.ncbi.nlm.nih.gov/pubmed/29402348\n",
    "\n",
    "### Experiment Design\n",
    "\n",
    "Briefly, the experiments were setup as such.\n",
    "\n",
    "1. Pre-sterilization, three sites on the phone were swabbed and the number of colony forming units (CFUs) was determined by letting the swabbed bacteria grow on an agar plate.\n",
    "1. Post-sterilization, the same three sites were swabbed and the number of CFUs was counted.\n",
    "1. Sterilization efficacy was determined by taking the ratio of the difference of CFUs pre- and post-sterilization.\n",
    "\n",
    "In the paper, we used the following formula to compute the percentage reduction:\n",
    "\n",
    "$$\\delta_{method} = \\frac{{count}_{pre} - {count}_{post}}{{count}_{pre}}$$\n",
    "\n",
    "In retrospect, a better definition would have been:\n",
    "\n",
    "$$x = \\frac{|{count}_{pre} - {count}_{post}|}{{count}_{pre}}$$\n",
    "$$\\delta_{method} = \\begin{cases}\n",
    "    0 & \\text{if} & x\\lt0, \\\\\n",
    "    1 & \\text{if} & x\\gt1, \\\\\n",
    "    x & \\text{otherwise}\n",
    "    \\end{cases}$$\n",
    "\n",
    "A few pointers:\n",
    "\n",
    "- We want absolute value becuase sometimes, the number of colonies post-sterilization is greater than the number of colonies pre-sterilization, which may result randomly due to experimental variability.\n",
    "- \n",
    "\n",
    "### Data\n",
    "\n",
    "The data are located in `../data/sterilization.csv`."
   ]
  },
  {
   "cell_type": "code",
   "execution_count": null,
   "metadata": {},
   "outputs": [],
   "source": [
    "import pandas as pd\n",
    "import pymc3 as pm\n",
    "import matplotlib.pyplot as plt\n",
    "import numpy as np\n",
    "import missingno as msno\n",
    "\n",
    "%load_ext autoreload\n",
    "%autoreload 2\n",
    "%matplotlib inline\n",
    "%config InlineBackend.figure_format = 'retina'"
   ]
  },
  {
   "cell_type": "markdown",
   "metadata": {},
   "source": [
    "### Step 1: Define Data Generating Process\n",
    "\n",
    "Just as in the previous notebook, you may want to spend 5-10 minutes talking through the data generating process before proceeding. Most important is to list out the distributions that you think are most relevant to the problem."
   ]
  },
  {
   "cell_type": "markdown",
   "metadata": {},
   "source": [
    "### Step 2: Explore the Data\n",
    "\n",
    "#### Exercise 1\n",
    "\n",
    "Load the dataset into a pandas DataFrame. It is available at the path `../data/sterilization.csv`. "
   ]
  },
  {
   "cell_type": "code",
   "execution_count": null,
   "metadata": {},
   "outputs": [],
   "source": [
    "df = pd.read_csv('../data/sterilization.csv', na_filter=True, na_values=['#DIV/0!'])\n",
    "df.sample(5)"
   ]
  },
  {
   "cell_type": "markdown",
   "metadata": {},
   "source": [
    "To help you visualize what data are available and missing in the dataframe, run the cell below to get a visual matrix (using MissingNo). "
   ]
  },
  {
   "cell_type": "code",
   "execution_count": null,
   "metadata": {},
   "outputs": [],
   "source": [
    "msno.matrix(df)"
   ]
  },
  {
   "cell_type": "markdown",
   "metadata": {},
   "source": [
    "#### Exercise 2\n",
    "\n",
    "Plot the average percentage reduction in colonies for each treatment."
   ]
  },
  {
   "cell_type": "code",
   "execution_count": null,
   "metadata": {},
   "outputs": [],
   "source": [
    "df.groupby('treatment').mean()['perc_reduction colonies'].plot(kind='bar')"
   ]
  },
  {
   "cell_type": "code",
   "execution_count": null,
   "metadata": {},
   "outputs": [],
   "source": [
    "df.describe()['']"
   ]
  },
  {
   "cell_type": "markdown",
   "metadata": {},
   "source": [
    "### Step 3: Implement and Fit Model\n",
    "\n",
    "#### Exercise\n",
    "\n",
    "Write your generative model for the data. "
   ]
  },
  {
   "cell_type": "code",
   "execution_count": null,
   "metadata": {},
   "outputs": [],
   "source": [
    "with pm.Model() as model:\n",
    "    \n",
    "    \n",
    "    \n",
    "    like = pm.Deterministic()"
   ]
  }
 ],
 "metadata": {
  "kernelspec": {
   "display_name": "bayesian-modelling-tutorial",
   "language": "python",
   "name": "bayesian-modelling-tutorial"
  },
  "language_info": {
   "codemirror_mode": {
    "name": "ipython",
    "version": 3
   },
   "file_extension": ".py",
   "mimetype": "text/x-python",
   "name": "python",
   "nbconvert_exporter": "python",
   "pygments_lexer": "ipython3",
   "version": "3.6.5"
  }
 },
 "nbformat": 4,
 "nbformat_minor": 2
}
