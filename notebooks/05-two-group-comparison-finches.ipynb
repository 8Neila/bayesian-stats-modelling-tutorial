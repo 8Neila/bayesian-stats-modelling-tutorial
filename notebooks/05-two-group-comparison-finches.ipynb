{
 "cells": [
  {
   "cell_type": "code",
   "execution_count": null,
   "metadata": {},
   "outputs": [],
   "source": [
    "import pandas as pd\n",
    "import janitor as jn\n",
    "import pymc3 as pm\n",
    "\n",
    "%load_ext autoreload\n",
    "%autoreload 2\n",
    "%matplotlib inline\n",
    "%config InlineBackend.figure_format = 'retina'"
   ]
  },
  {
   "cell_type": "code",
   "execution_count": null,
   "metadata": {},
   "outputs": [],
   "source": [
    "df = pd.read_csv('../data/finch_beaks_2012.csv')\n",
    "df = (jn.DataFrame(df)\n",
    "      .clean_names()\n",
    "      .rename_column('blenth', 'beak_length')\n",
    "      .rename_column('bdepth', 'beak_depth')\n",
    "      .encode_categorical('species')\n",
    "     )\n",
    "df.groupby('species').size()"
   ]
  },
  {
   "cell_type": "markdown",
   "metadata": {},
   "source": [
    "Ignore the \"unknown\" bird for now."
   ]
  },
  {
   "cell_type": "code",
   "execution_count": null,
   "metadata": {},
   "outputs": [],
   "source": [
    "df.dtypes"
   ]
  },
  {
   "cell_type": "code",
   "execution_count": null,
   "metadata": {},
   "outputs": [],
   "source": [
    "fortis_filter = df['species'] == 'fortis'\n",
    "scandens_filter = df['species'] == 'scandens'"
   ]
  },
  {
   "cell_type": "code",
   "execution_count": null,
   "metadata": {},
   "outputs": [],
   "source": [
    "with pm.Model() as beak_depth_model:\n",
    "    fortis_mean = pm.Normal('fortis_mean', mu=0, sd=100)\n",
    "    scandens_mean = pm.Normal('scandens_mean', mu=0, sd=100)\n",
    "    \n",
    "    fortis_sd = pm.HalfCauchy('fortis_sd', beta=100)\n",
    "    scandens_sd = pm.HalfCauchy('scandens_sd', beta=100)\n",
    "    \n",
    "    nu = pm.Exponential('nu', lam=1/29.) + 1\n",
    "    \n",
    "    like_fortis = pm.StudentT('like_fortis', mu=fortis_mean, sd=fortis_sd, nu=nu,\n",
    "                              observed=df[fortis_filter]['beak_depth'])\n",
    "    like_scandens = pm.StudentT('like_scandens', mu=scandens_mean, sd=scandens_sd, nu=nu,\n",
    "                                 observed=df[scandens_filter]['beak_depth'])"
   ]
  },
  {
   "cell_type": "code",
   "execution_count": null,
   "metadata": {},
   "outputs": [],
   "source": [
    "with beak_depth_model:\n",
    "    trace = pm.sample(2000, tuning=1000)"
   ]
  },
  {
   "cell_type": "code",
   "execution_count": null,
   "metadata": {},
   "outputs": [],
   "source": [
    "pm.forestplot(trace, varnames=['fortis_mean', 'scandens_mean'])"
   ]
  },
  {
   "cell_type": "code",
   "execution_count": null,
   "metadata": {},
   "outputs": [],
   "source": [
    "pm.plot_posterior(trace, varnames=['fortis_mean', 'scandens_mean'])"
   ]
  },
  {
   "cell_type": "code",
   "execution_count": null,
   "metadata": {},
   "outputs": [],
   "source": []
  }
 ],
 "metadata": {
  "kernelspec": {
   "display_name": "bayesian-modelling-tutorial",
   "language": "python",
   "name": "bayesian-modelling-tutorial"
  },
  "language_info": {
   "codemirror_mode": {
    "name": "ipython",
    "version": 3
   },
   "file_extension": ".py",
   "mimetype": "text/x-python",
   "name": "python",
   "nbconvert_exporter": "python",
   "pygments_lexer": "ipython3",
   "version": "3.6.5"
  }
 },
 "nbformat": 4,
 "nbformat_minor": 2
}
