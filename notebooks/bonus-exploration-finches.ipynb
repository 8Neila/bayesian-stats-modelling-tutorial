{
 "cells": [
  {
   "cell_type": "code",
   "execution_count": null,
   "metadata": {},
   "outputs": [],
   "source": [
    "import pymc3 as pm\n",
    "import matplotlib.pyplot as plt\n",
    "import numpy as np\n",
    "from data import load_finches_2012, load_finches_1975\n",
    "from utils import ECDF\n",
    "\n",
    "%load_ext autoreload\n",
    "%autoreload 2\n",
    "%matplotlib inline\n",
    "%config InlineBackend.figure_format = 'retina'"
   ]
  },
  {
   "cell_type": "code",
   "execution_count": null,
   "metadata": {},
   "outputs": [],
   "source": [
    "df12 = load_finches_2012()\n",
    "df12['shape'] = df12['beak_depth'] / df12['beak_length']\n",
    "\n",
    "df12 = df12[df12['species'] != 'unknown']\n",
    "df75 = load_finches_1975()\n",
    "\n",
    "df = df12  # convenient alias"
   ]
  },
  {
   "cell_type": "code",
   "execution_count": null,
   "metadata": {},
   "outputs": [],
   "source": [
    "df12.head(5)"
   ]
  },
  {
   "cell_type": "code",
   "execution_count": null,
   "metadata": {},
   "outputs": [],
   "source": [
    "fortis_idx = df[df['species'] == 'fortis'].index\n",
    "scandens_idx = df[df['species'] == 'scandens'].index"
   ]
  },
  {
   "cell_type": "code",
   "execution_count": null,
   "metadata": {},
   "outputs": [],
   "source": [
    "# Mega-model incorporating shape as well. \n",
    "# We will also analyze the SD in addition to the mean.\n",
    "\n",
    "with pm.Model() as beak_model:\n",
    "    # SD can only be positive, therefore it is reasonable to constrain to >0\n",
    "    # Likewise for betas.\n",
    "    sd_hyper = pm.HalfCauchy('sd_hyper', beta=100, shape=(2,))\n",
    "    beta_hyper = pm.HalfCauchy('beta_hyper', beta=100, shape=(2,))\n",
    "    \n",
    "    # Beaks cannot be of \"negative\" mean, therefore, HalfNormal is \n",
    "    # a reasonable, constrained prior.\n",
    "    mean_depth = pm.HalfNormal('mean_depth', sd=sd_hyper[0], shape=(2,))\n",
    "    sd_depth = pm.HalfCauchy('sd_depth', beta=beta_hyper[0], shape=(2,))\n",
    "    \n",
    "    mean_length = pm.HalfNormal('mean_length', sd=sd_hyper[1], shape=(2,))\n",
    "    sd_length = pm.HalfCauchy('sd_length', beta=beta_hyper[1], shape=(2,))\n",
    "\n",
    "    nu = pm.Exponential('nu', lam=1/29.) + 1\n",
    "    \n",
    "    # Define the likelihood distribution for the data.\n",
    "    depth = pm.StudentT('depth', \n",
    "                        nu=nu,\n",
    "                        mu=mean_depth[df['species_enc']], \n",
    "                        sd=sd_depth[df['species_enc']], \n",
    "                        observed=df['beak_depth'])\n",
    "    \n",
    "    length = pm.StudentT('length',\n",
    "                         nu=nu,\n",
    "                         mu=mean_length[df['species_enc']],\n",
    "                         sd=sd_length[df['species_enc']],\n",
    "                         observed=df['beak_length'])\n",
    "    \n",
    "    shape = pm.Deterministic('shape', depth / length)"
   ]
  },
  {
   "cell_type": "code",
   "execution_count": null,
   "metadata": {},
   "outputs": [],
   "source": [
    "with beak_model:\n",
    "    trace = pm.sample(2000)"
   ]
  },
  {
   "cell_type": "code",
   "execution_count": null,
   "metadata": {},
   "outputs": [],
   "source": [
    "pm.traceplot(trace, varnames=['mean_length', 'mean_depth'])"
   ]
  },
  {
   "cell_type": "code",
   "execution_count": null,
   "metadata": {},
   "outputs": [],
   "source": [
    "pm.traceplot(trace, varnames=['sd_length', 'sd_depth'])"
   ]
  },
  {
   "cell_type": "code",
   "execution_count": null,
   "metadata": {},
   "outputs": [],
   "source": [
    "samples = pm.sample_ppc(trace, model=beak_model)\n",
    "samples"
   ]
  },
  {
   "cell_type": "code",
   "execution_count": null,
   "metadata": {},
   "outputs": [],
   "source": [
    "fig = plt.figure()\n",
    "ax = fig.add_subplot(111)\n",
    "x, y = ECDF((samples['depth'][:, fortis_idx] / samples['length'][:, fortis_idx]).flatten())\n",
    "ax.plot(x, y)\n",
    "x, y = ECDF(df.loc[fortis_idx, 'shape'])\n",
    "ax.plot(x, y)"
   ]
  },
  {
   "cell_type": "code",
   "execution_count": null,
   "metadata": {},
   "outputs": [],
   "source": [
    "fig = plt.figure()\n",
    "ax = fig.add_subplot(111)\n",
    "x, y = ECDF(df['shape'])\n",
    "ax.plot(x, y, label='data')\n",
    "# x, y = ECDF(trace['shape'][0, :])\n",
    "# ax.plot(x, y, label='posterior')\n"
   ]
  },
  {
   "cell_type": "code",
   "execution_count": null,
   "metadata": {},
   "outputs": [],
   "source": []
  }
 ],
 "metadata": {
  "kernelspec": {
   "display_name": "bayesian-modelling-tutorial",
   "language": "python",
   "name": "bayesian-modelling-tutorial"
  },
  "language_info": {
   "codemirror_mode": {
    "name": "ipython",
    "version": 3
   },
   "file_extension": ".py",
   "mimetype": "text/x-python",
   "name": "python",
   "nbconvert_exporter": "python",
   "pygments_lexer": "ipython3",
   "version": "3.6.6"
  }
 },
 "nbformat": 4,
 "nbformat_minor": 2
}
