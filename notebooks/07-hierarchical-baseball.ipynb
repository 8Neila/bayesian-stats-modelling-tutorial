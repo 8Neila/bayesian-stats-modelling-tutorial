{
 "cells": [
  {
   "cell_type": "code",
   "execution_count": null,
   "metadata": {},
   "outputs": [],
   "source": [
    "import pandas as pd\n",
    "import pymc3 as pm\n",
    "import matplotlib.pyplot as plt\n",
    "import numpy as np\n",
    "\n",
    "# For deterministic reproducibility.\n",
    "np.random.seed(42)\n",
    "\n",
    "%load_ext autoreload\n",
    "%autoreload 2\n",
    "%matplotlib inline\n",
    "%config InlineBackend.figure_format = 'retina'"
   ]
  },
  {
   "cell_type": "code",
   "execution_count": null,
   "metadata": {},
   "outputs": [],
   "source": [
    "df = pd.read_csv('../data/baseballdb/core/Batting.csv')\n",
    "df['AB'] = df['AB'].replace(0, np.nan)\n",
    "df = df.dropna()\n",
    "df['batting_avg'] = df['H'] / df['AB']\n",
    "df = df[df['yearID'] >= 2016]\n",
    "df = df.iloc[0:15]\n",
    "df.head(5)"
   ]
  },
  {
   "cell_type": "code",
   "execution_count": null,
   "metadata": {},
   "outputs": [],
   "source": [
    "df"
   ]
  },
  {
   "cell_type": "code",
   "execution_count": null,
   "metadata": {},
   "outputs": [],
   "source": [
    "import theano.tensor as tt\n",
    "\n",
    "with pm.Model() as baseball_model:\n",
    "    \n",
    "    phi = pm.Uniform('phi', lower=0.0, upper=1.0)\n",
    "    kappa_log = pm.Exponential('kappa_log', lam=1.5)\n",
    "    kappa = pm.Deterministic('kappa', tt.exp(kappa_log))\n",
    "\n",
    "    thetas = pm.Beta('thetas', alpha=phi*kappa, beta=(1.0-phi)*kappa, shape=len(df))\n",
    "    like = pm.Binomial('like', n=df['AB'], p=thetas, observed=df['H'])"
   ]
  },
  {
   "cell_type": "code",
   "execution_count": null,
   "metadata": {},
   "outputs": [],
   "source": [
    "with baseball_model:\n",
    "    trace = pm.sample(2000, nuts_kwargs={'target_accept': 0.95})"
   ]
  },
  {
   "cell_type": "code",
   "execution_count": null,
   "metadata": {},
   "outputs": [],
   "source": [
    "pm.traceplot(trace)"
   ]
  },
  {
   "cell_type": "code",
   "execution_count": null,
   "metadata": {},
   "outputs": [],
   "source": [
    "ylabels = \"AB: \" + df['AB'].astype(str) + ', H: ' + df['H'].astype('str')\n",
    "pm.forestplot(trace, varnames=['thetas'], ylabels=ylabels)"
   ]
  },
  {
   "cell_type": "markdown",
   "metadata": {},
   "source": [
    "With a hierarchical model, we make the assumption that our observations (or treatments that group our observations) are somehow related. Under this assumption, when we have a new sample for which we have very few observations, we are able to borrow power from the population to make inferences about the new sample. \n",
    "\n",
    "Depending on the scenario, this assumption can either be reasonable, thereby not necessitating much debate, or be considered a \"strong assumption\", thereby requiring strong justification. "
   ]
  },
  {
   "cell_type": "markdown",
   "metadata": {},
   "source": [
    "# Summary\n",
    "\n",
    "- Hierarchical modelling assumes a \"hierarchical structure\" that governs relatedness between our observed samples.\n",
    "- Under the assumption of hierarchical structure holding true, we will not get estimates that one may consider to be absurd (e.g. long-run batting probability estimated to be zero or one, on the basis onf few observations)."
   ]
  }
 ],
 "metadata": {
  "kernelspec": {
   "display_name": "bayesian-modelling-tutorial",
   "language": "python",
   "name": "bayesian-modelling-tutorial"
  },
  "language_info": {
   "codemirror_mode": {
    "name": "ipython",
    "version": 3
   },
   "file_extension": ".py",
   "mimetype": "text/x-python",
   "name": "python",
   "nbconvert_exporter": "python",
   "pygments_lexer": "ipython3",
   "version": "3.6.6"
  }
 },
 "nbformat": 4,
 "nbformat_minor": 2
}
