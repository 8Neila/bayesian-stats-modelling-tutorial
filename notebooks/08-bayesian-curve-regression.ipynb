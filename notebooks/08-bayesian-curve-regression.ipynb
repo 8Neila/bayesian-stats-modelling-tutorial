{
 "cells": [
  {
   "cell_type": "code",
   "execution_count": null,
   "metadata": {},
   "outputs": [],
   "source": [
    "import pymc3 as pm\n",
    "import matplotlib.pyplot as plt\n",
    "import numpy as np\n",
    "from utils import ECDF\n",
    "from data import load_decay\n",
    "import pandas as pd\n",
    "import theano.tensor as tt\n",
    "\n",
    "%load_ext autoreload\n",
    "%autoreload 2\n",
    "%matplotlib inline\n",
    "%config InlineBackend.figure_format = 'retina'"
   ]
  },
  {
   "cell_type": "markdown",
   "metadata": {},
   "source": [
    "# Introduction\n",
    "\n",
    "Now that you've learned about Bayesian estimation, we're going to explore one more topic: Bayesian curve fitting.\n",
    "\n",
    "By \"curve fitting\", we're really talking about any curve: those that are bendy, those that are straight, and those that are in between. \n",
    "\n",
    "In order to reinforce this point, rather than show you plain vanilla linear regression, we will work through an exponential decay curve example.\n",
    "\n",
    "# Problem Setup\n",
    "\n",
    "You've taken radioactive decay measurements of an unknown element in a secure facility. The measurements are noisy, though, and potentially have some bias. In the face of this, we would like to be able to characterize the decay constant of this unknown material, potentially leading to an identification of the material.\n",
    "\n",
    "Let's load in the data."
   ]
  },
  {
   "cell_type": "code",
   "execution_count": null,
   "metadata": {},
   "outputs": [],
   "source": [
    "np.random.seed(42)\n",
    "\n",
    "df = load_decay()\n",
    "df.head(5)"
   ]
  },
  {
   "cell_type": "markdown",
   "metadata": {},
   "source": [
    "**Exercise:** Plot `activity` vs. `time`."
   ]
  },
  {
   "cell_type": "code",
   "execution_count": null,
   "metadata": {},
   "outputs": [],
   "source": [
    "ax = df['activity'].plot()"
   ]
  },
  {
   "cell_type": "markdown",
   "metadata": {},
   "source": [
    "**Discuss:** \n",
    "\n",
    "- For the scenario that we're in, what is a plausible equation that links time to activity?\n",
    "- What are the key parameters that we need to worry about?\n",
    "- What might be justifiable priors for them?\n",
    "\n",
    "**Exercise:** Implement the model."
   ]
  },
  {
   "cell_type": "code",
   "execution_count": null,
   "metadata": {},
   "outputs": [],
   "source": [
    "with pm.Model() as model:\n",
    "    A = pm.HalfNormal('A', sd=100)\n",
    "    tau = pm.Exponential('tau', lam=1)\n",
    "    C = pm.Normal('C', sd=100)\n",
    "    \n",
    "    sd = pm.HalfCauchy('sd', beta=1)\n",
    "    \n",
    "    link = A * np.exp(-df['t'].values / tau) + C\n",
    "    \n",
    "    like = pm.Normal('activity', mu=link, sd=sd, observed=df['activity'].values)"
   ]
  },
  {
   "cell_type": "markdown",
   "metadata": {},
   "source": [
    "Sample from the posterior."
   ]
  },
  {
   "cell_type": "code",
   "execution_count": null,
   "metadata": {},
   "outputs": [],
   "source": [
    "with model:\n",
    "    trace = pm.sample(2000, tune=2000)\n",
    "    # Note: Sampler may pause for a while after finishing"
   ]
  },
  {
   "cell_type": "markdown",
   "metadata": {},
   "source": [
    "Check that sampling has converged."
   ]
  },
  {
   "cell_type": "code",
   "execution_count": null,
   "metadata": {},
   "outputs": [],
   "source": [
    "traces = pm.traceplot(trace)"
   ]
  },
  {
   "cell_type": "markdown",
   "metadata": {},
   "source": [
    "# Summary\n",
    "\n",
    "- In lieu of showing you a \"straight curve\" (line) fit, you've now seen an arbitrary curve fit.\n",
    "- As long as you can find a way to parameterize the curve with a function, you can perform inference on the curve's parameters.\n",
    "- The function that you are modelling is the \"link function\" that provides the link between the parameters, data and the output.\n",
    "\n",
    "More generally, if\n",
    "\n",
    "$$y = f(x, \\theta)$$\n",
    "\n",
    "where $\\theta$ are merely a set of parameters, then you can perform inference on the curve's parameters $\\theta$. To make this clear:\n",
    "\n",
    "| curve name | functional form | parameters $\\theta$ |\n",
    "|------------|-----------------|---------------------|\n",
    "| exponential decay | $y = Ae^{-t/\\tau} + C$ | $A$, $\\tau$, $C$|\n",
    "| linear regression | $y = mx + c$ | $m$, $c$ |\n",
    "| logistic regression | $y = L(mx + c)$ | $m$, $c$ |\n",
    "| 4-parameter IC50 | $y = \\frac{a - i}{1 + 10^{\\beta(log(\\tau) - x)}} + i$ | $a$, $i$, $\\tau$, $\\beta$ |\n",
    "| deep learning | $y = f(x, \\theta)$ | $\\theta$ |"
   ]
  },
  {
   "cell_type": "code",
   "execution_count": null,
   "metadata": {},
   "outputs": [],
   "source": []
  }
 ],
 "metadata": {
  "kernelspec": {
   "display_name": "bayesian-modelling-tutorial",
   "language": "python",
   "name": "bayesian-modelling-tutorial"
  },
  "language_info": {
   "codemirror_mode": {
    "name": "ipython",
    "version": 3
   },
   "file_extension": ".py",
   "mimetype": "text/x-python",
   "name": "python",
   "nbconvert_exporter": "python",
   "pygments_lexer": "ipython3",
   "version": "3.6.6"
  }
 },
 "nbformat": 4,
 "nbformat_minor": 2
}
