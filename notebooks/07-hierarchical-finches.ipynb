{
 "cells": [
  {
   "cell_type": "markdown",
   "metadata": {},
   "source": [
    "# Introduction\n",
    "\n",
    "In this notebook, we will look at how hierarchical models can help us in scenarios where we do not have sufficient data to meaningfully quantify our uncertainties. By making assumptions about relatedness, we can borrow statistical power from other observations, "
   ]
  },
  {
   "cell_type": "code",
   "execution_count": null,
   "metadata": {},
   "outputs": [],
   "source": [
    "import pandas as pd\n",
    "import janitor as jn\n",
    "import pymc3 as pm\n",
    "\n",
    "%load_ext autoreload\n",
    "%autoreload 2\n",
    "%matplotlib inline\n",
    "%config InlineBackend.figure_format = 'retina'"
   ]
  },
  {
   "cell_type": "code",
   "execution_count": null,
   "metadata": {},
   "outputs": [],
   "source": [
    "df = pd.read_csv('../data/finch_beaks_2012.csv')\n",
    "df = (jn.DataFrame(df)\n",
    "      .clean_names()\n",
    "      .rename_column('blength', 'beak_length')\n",
    "      .rename_column('bdepth', 'beak_depth')\n",
    "      .encode_categorical('species')\n",
    "     )\n",
    "df.groupby('species').size()"
   ]
  },
  {
   "cell_type": "code",
   "execution_count": null,
   "metadata": {},
   "outputs": [],
   "source": [
    "df.groupby('species')['beak_depth'].describe()"
   ]
  },
  {
   "cell_type": "code",
   "execution_count": null,
   "metadata": {},
   "outputs": [],
   "source": [
    "fortis_filter = df['species'] == 'fortis'\n",
    "scandens_filter = df['species'] == 'scandens'\n",
    "unknown_filter = df['species'] == 'unknown'"
   ]
  },
  {
   "cell_type": "code",
   "execution_count": null,
   "metadata": {},
   "outputs": [],
   "source": [
    "def enc_species(x):\n",
    "    if x == 'fortis':\n",
    "        return 0\n",
    "    if x == 'scandens':\n",
    "        return 1\n",
    "    else:\n",
    "        return 2"
   ]
  },
  {
   "cell_type": "code",
   "execution_count": null,
   "metadata": {},
   "outputs": [],
   "source": [
    "df['species_enc'] = df['species'].apply(lambda x: enc_species(x))\n",
    "df['species_enc'].head(5)"
   ]
  },
  {
   "cell_type": "code",
   "execution_count": null,
   "metadata": {},
   "outputs": [],
   "source": [
    "with pm.Model() as beak_depth_model:\n",
    "    sd_prior = pm.HalfCauchy('sd_prior', beta=100)\n",
    "    beta_prior = pm.HalfCauchy('beta_prior', beta=100)\n",
    "    \n",
    "    finches_mean = pm.HalfNormal('finches_mean', sd=sd_prior, shape=(3,))\n",
    "    finches_sd = pm.HalfCauchy('finches_sd', beta=beta_prior, shape=(3,))\n",
    "    \n",
    "    fortis_mean = pm.Deterministic('fortis_mean', finches_mean[df[fortis_filter]['species_enc']])\n",
    "    scandens_mean = pm.Deterministic('scandens_mean', finches_mean[df[scandens_filter]['species_enc']])\n",
    "    \n",
    "    fortis_sd = pm.Deterministic('fortis_sd', finches_sd[df[fortis_filter]['species_enc']])\n",
    "    scandens_sd = pm.Deterministic('scandens_sd', finches_sd[df[scandens_filter]['species_enc']])\n",
    "    \n",
    "    unknown_mean = pm.Deterministic('unknown_mean', finches_mean[df[unknown_filter]['species_enc']])\n",
    "    unknown_sd = pm.Deterministic('unknown_sd', finches_sd[df[unknown_filter]['species_enc']])\n",
    "    \n",
    "    nu = pm.Exponential('nu', lam=1/29.) + 1\n",
    "    \n",
    "    like_fortis = pm.StudentT('like_fortis', mu=fortis_mean, sd=fortis_sd, nu=nu,\n",
    "                              observed=df[fortis_filter]['beak_depth'])\n",
    "    like_scandens = pm.StudentT('like_scandens', mu=scandens_mean, sd=scandens_sd, nu=nu,\n",
    "                                 observed=df[scandens_filter]['beak_depth'])\n",
    "    like_unknown = pm.StudentT('like_unknown', mu=unknown_mean, sd=unknown_sd, nu=nu,\n",
    "                               observed=df[unknown_filter]['beak_depth'])"
   ]
  },
  {
   "cell_type": "code",
   "execution_count": null,
   "metadata": {},
   "outputs": [],
   "source": [
    "with beak_depth_model:\n",
    "    trace = pm.sample(2000, nuts_kwargs={'target_accept': 0.95})"
   ]
  },
  {
   "cell_type": "code",
   "execution_count": null,
   "metadata": {},
   "outputs": [],
   "source": [
    "pm.plot_posterior(trace, varnames=['finches_mean'], )"
   ]
  },
  {
   "cell_type": "code",
   "execution_count": null,
   "metadata": {},
   "outputs": [],
   "source": []
  }
 ],
 "metadata": {
  "kernelspec": {
   "display_name": "bayesian-modelling-tutorial",
   "language": "python",
   "name": "bayesian-modelling-tutorial"
  },
  "language_info": {
   "codemirror_mode": {
    "name": "ipython",
    "version": 3
   },
   "file_extension": ".py",
   "mimetype": "text/x-python",
   "name": "python",
   "nbconvert_exporter": "python",
   "pygments_lexer": "ipython3",
   "version": "3.6.5"
  }
 },
 "nbformat": 4,
 "nbformat_minor": 2
}
